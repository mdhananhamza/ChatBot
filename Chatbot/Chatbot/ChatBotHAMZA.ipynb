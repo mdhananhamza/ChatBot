{
 "cells": [
  {
   "cell_type": "code",
   "execution_count": 1,
   "id": "5f5c6aca",
   "metadata": {},
   "outputs": [],
   "source": [
    "import pickle\n",
    "import numpy as np"
   ]
  },
  {
   "cell_type": "code",
   "execution_count": 2,
   "id": "cb1e5bec",
   "metadata": {},
   "outputs": [],
   "source": [
    "with open(\"train_qa.txt\", \"rb\") as fp:   # Unpickling\n",
    "    train_data =  pickle.load(fp)"
   ]
  },
  {
   "cell_type": "code",
   "execution_count": 3,
   "id": "0eda530f",
   "metadata": {},
   "outputs": [],
   "source": [
    "with open(\"test_qa.txt\", \"rb\") as fp:   # Unpickling\n",
    "    test_data =  pickle.load(fp)"
   ]
  },
  {
   "cell_type": "code",
   "execution_count": 4,
   "id": "fb725626",
   "metadata": {},
   "outputs": [
    {
     "data": {
      "text/plain": [
       "list"
      ]
     },
     "execution_count": 4,
     "metadata": {},
     "output_type": "execute_result"
    }
   ],
   "source": [
    "type(test_data)"
   ]
  },
  {
   "cell_type": "code",
   "execution_count": 5,
   "id": "84b1364e",
   "metadata": {},
   "outputs": [
    {
     "data": {
      "text/plain": [
       "list"
      ]
     },
     "execution_count": 5,
     "metadata": {},
     "output_type": "execute_result"
    }
   ],
   "source": [
    "type(train_data)"
   ]
  },
  {
   "cell_type": "code",
   "execution_count": 6,
   "id": "63b065d1",
   "metadata": {},
   "outputs": [
    {
     "data": {
      "text/plain": [
       "1000"
      ]
     },
     "execution_count": 6,
     "metadata": {},
     "output_type": "execute_result"
    }
   ],
   "source": [
    "len(test_data)"
   ]
  },
  {
   "cell_type": "code",
   "execution_count": 7,
   "id": "015d0296",
   "metadata": {},
   "outputs": [
    {
     "data": {
      "text/plain": [
       "(['Mary',\n",
       "  'moved',\n",
       "  'to',\n",
       "  'the',\n",
       "  'bathroom',\n",
       "  '.',\n",
       "  'Sandra',\n",
       "  'journeyed',\n",
       "  'to',\n",
       "  'the',\n",
       "  'bedroom',\n",
       "  '.'],\n",
       " ['Is', 'Sandra', 'in', 'the', 'hallway', '?'],\n",
       " 'no')"
      ]
     },
     "execution_count": 7,
     "metadata": {},
     "output_type": "execute_result"
    }
   ],
   "source": [
    "train_data[0]"
   ]
  },
  {
   "cell_type": "code",
   "execution_count": 8,
   "id": "5c428f7b",
   "metadata": {},
   "outputs": [
    {
     "data": {
      "text/plain": [
       "'Mary moved to the bathroom . Sandra journeyed to the bedroom .'"
      ]
     },
     "execution_count": 8,
     "metadata": {},
     "output_type": "execute_result"
    }
   ],
   "source": [
    "' '.join(train_data[0][0])"
   ]
  },
  {
   "cell_type": "code",
   "execution_count": 9,
   "id": "78e76782",
   "metadata": {},
   "outputs": [
    {
     "data": {
      "text/plain": [
       "'Is Sandra in the hallway ?'"
      ]
     },
     "execution_count": 9,
     "metadata": {},
     "output_type": "execute_result"
    }
   ],
   "source": [
    "' '.join(train_data[0][1])"
   ]
  },
  {
   "cell_type": "code",
   "execution_count": 10,
   "id": "36a81149",
   "metadata": {},
   "outputs": [
    {
     "data": {
      "text/plain": [
       "'no'"
      ]
     },
     "execution_count": 10,
     "metadata": {},
     "output_type": "execute_result"
    }
   ],
   "source": [
    "train_data[0][2]"
   ]
  },
  {
   "cell_type": "code",
   "execution_count": 11,
   "id": "b71051f6",
   "metadata": {},
   "outputs": [],
   "source": [
    "vocab = set()"
   ]
  },
  {
   "cell_type": "code",
   "execution_count": 12,
   "id": "d83756d9",
   "metadata": {},
   "outputs": [],
   "source": [
    "all_data = test_data + train_data"
   ]
  },
  {
   "cell_type": "code",
   "execution_count": 13,
   "id": "5b81f590",
   "metadata": {},
   "outputs": [],
   "source": [
    "for story, question , answer in all_data:\n",
    "    vocab = vocab.union(set(story))\n",
    "    vocab = vocab.union(set(question))"
   ]
  },
  {
   "cell_type": "code",
   "execution_count": 14,
   "id": "50233b5e",
   "metadata": {},
   "outputs": [],
   "source": [
    "vocab.add('no')\n",
    "vocab.add('yes')"
   ]
  },
  {
   "cell_type": "code",
   "execution_count": 15,
   "id": "013a380a",
   "metadata": {},
   "outputs": [
    {
     "data": {
      "text/plain": [
       "{'.',\n",
       " '?',\n",
       " 'Daniel',\n",
       " 'Is',\n",
       " 'John',\n",
       " 'Mary',\n",
       " 'Sandra',\n",
       " 'apple',\n",
       " 'back',\n",
       " 'bathroom',\n",
       " 'bedroom',\n",
       " 'discarded',\n",
       " 'down',\n",
       " 'dropped',\n",
       " 'football',\n",
       " 'garden',\n",
       " 'got',\n",
       " 'grabbed',\n",
       " 'hallway',\n",
       " 'in',\n",
       " 'journeyed',\n",
       " 'kitchen',\n",
       " 'left',\n",
       " 'milk',\n",
       " 'moved',\n",
       " 'no',\n",
       " 'office',\n",
       " 'picked',\n",
       " 'put',\n",
       " 'the',\n",
       " 'there',\n",
       " 'to',\n",
       " 'took',\n",
       " 'travelled',\n",
       " 'up',\n",
       " 'went',\n",
       " 'yes'}"
      ]
     },
     "execution_count": 15,
     "metadata": {},
     "output_type": "execute_result"
    }
   ],
   "source": [
    "vocab"
   ]
  },
  {
   "cell_type": "code",
   "execution_count": 16,
   "id": "8faf1abd",
   "metadata": {},
   "outputs": [],
   "source": [
    "vocab_len = len(vocab) + 1"
   ]
  },
  {
   "cell_type": "code",
   "execution_count": 17,
   "id": "f208938e",
   "metadata": {},
   "outputs": [],
   "source": [
    "max_story_len = max([len(data[0]) for data in all_data])"
   ]
  },
  {
   "cell_type": "code",
   "execution_count": 18,
   "id": "418785af",
   "metadata": {},
   "outputs": [
    {
     "data": {
      "text/plain": [
       "156"
      ]
     },
     "execution_count": 18,
     "metadata": {},
     "output_type": "execute_result"
    }
   ],
   "source": [
    "max_story_len"
   ]
  },
  {
   "cell_type": "code",
   "execution_count": 19,
   "id": "bbe5c1f4",
   "metadata": {},
   "outputs": [],
   "source": [
    "max_question_len = max([len(data[1]) for data in all_data])"
   ]
  },
  {
   "cell_type": "code",
   "execution_count": 20,
   "id": "367a75c0",
   "metadata": {},
   "outputs": [
    {
     "data": {
      "text/plain": [
       "6"
      ]
     },
     "execution_count": 20,
     "metadata": {},
     "output_type": "execute_result"
    }
   ],
   "source": [
    "max_question_len"
   ]
  },
  {
   "cell_type": "code",
   "execution_count": 21,
   "id": "c7ed3757",
   "metadata": {},
   "outputs": [
    {
     "data": {
      "text/plain": [
       "{'.',\n",
       " '?',\n",
       " 'Daniel',\n",
       " 'Is',\n",
       " 'John',\n",
       " 'Mary',\n",
       " 'Sandra',\n",
       " 'apple',\n",
       " 'back',\n",
       " 'bathroom',\n",
       " 'bedroom',\n",
       " 'discarded',\n",
       " 'down',\n",
       " 'dropped',\n",
       " 'football',\n",
       " 'garden',\n",
       " 'got',\n",
       " 'grabbed',\n",
       " 'hallway',\n",
       " 'in',\n",
       " 'journeyed',\n",
       " 'kitchen',\n",
       " 'left',\n",
       " 'milk',\n",
       " 'moved',\n",
       " 'no',\n",
       " 'office',\n",
       " 'picked',\n",
       " 'put',\n",
       " 'the',\n",
       " 'there',\n",
       " 'to',\n",
       " 'took',\n",
       " 'travelled',\n",
       " 'up',\n",
       " 'went',\n",
       " 'yes'}"
      ]
     },
     "execution_count": 21,
     "metadata": {},
     "output_type": "execute_result"
    }
   ],
   "source": [
    "vocab"
   ]
  },
  {
   "cell_type": "code",
   "execution_count": 22,
   "id": "e84f85b6",
   "metadata": {},
   "outputs": [],
   "source": [
    "vocab_size = len(vocab) + 1"
   ]
  },
  {
   "cell_type": "code",
   "execution_count": 23,
   "id": "6439693b",
   "metadata": {},
   "outputs": [],
   "source": [
    "from keras_preprocessing.sequence import pad_sequences\n",
    "from keras.preprocessing.text import Tokenizer"
   ]
  },
  {
   "cell_type": "code",
   "execution_count": 24,
   "id": "10cfaa7d",
   "metadata": {},
   "outputs": [],
   "source": [
    "tokenizer = Tokenizer(filters=[])\n",
    "tokenizer.fit_on_texts(vocab)"
   ]
  },
  {
   "cell_type": "code",
   "execution_count": 25,
   "id": "06b4ac19",
   "metadata": {},
   "outputs": [
    {
     "data": {
      "text/plain": [
       "{'bedroom': 1,\n",
       " 'office': 2,\n",
       " 'back': 3,\n",
       " 'the': 4,\n",
       " 'got': 5,\n",
       " 'travelled': 6,\n",
       " 'left': 7,\n",
       " 'in': 8,\n",
       " '?': 9,\n",
       " 'moved': 10,\n",
       " 'discarded': 11,\n",
       " 'garden': 12,\n",
       " 'there': 13,\n",
       " 'down': 14,\n",
       " 'apple': 15,\n",
       " 'kitchen': 16,\n",
       " 'put': 17,\n",
       " '.': 18,\n",
       " 'no': 19,\n",
       " 'journeyed': 20,\n",
       " 'hallway': 21,\n",
       " 'mary': 22,\n",
       " 'daniel': 23,\n",
       " 'went': 24,\n",
       " 'john': 25,\n",
       " 'sandra': 26,\n",
       " 'dropped': 27,\n",
       " 'milk': 28,\n",
       " 'picked': 29,\n",
       " 'to': 30,\n",
       " 'took': 31,\n",
       " 'up': 32,\n",
       " 'grabbed': 33,\n",
       " 'yes': 34,\n",
       " 'is': 35,\n",
       " 'bathroom': 36,\n",
       " 'football': 37}"
      ]
     },
     "execution_count": 25,
     "metadata": {},
     "output_type": "execute_result"
    }
   ],
   "source": [
    "tokenizer.word_index"
   ]
  },
  {
   "cell_type": "code",
   "execution_count": 26,
   "id": "d95b69f8",
   "metadata": {},
   "outputs": [],
   "source": [
    "train_story_text = []\n",
    "train_question_text = []\n",
    "train_answers = []\n",
    "\n",
    "for story,question,answer in train_data:\n",
    "    train_story_text.append(story)\n",
    "    train_question_text.append(question)"
   ]
  },
  {
   "cell_type": "code",
   "execution_count": 27,
   "id": "5b2083bd",
   "metadata": {},
   "outputs": [],
   "source": [
    "train_story_seq = tokenizer.texts_to_sequences(train_story_text)"
   ]
  },
  {
   "cell_type": "code",
   "execution_count": 28,
   "id": "6eb773dc",
   "metadata": {},
   "outputs": [
    {
     "data": {
      "text/plain": [
       "10000"
      ]
     },
     "execution_count": 28,
     "metadata": {},
     "output_type": "execute_result"
    }
   ],
   "source": [
    "len(train_story_text)"
   ]
  },
  {
   "cell_type": "code",
   "execution_count": 29,
   "id": "447586fd",
   "metadata": {},
   "outputs": [
    {
     "data": {
      "text/plain": [
       "10000"
      ]
     },
     "execution_count": 29,
     "metadata": {},
     "output_type": "execute_result"
    }
   ],
   "source": [
    "len(train_story_seq)"
   ]
  },
  {
   "cell_type": "code",
   "execution_count": 30,
   "id": "9b8f4c0c",
   "metadata": {},
   "outputs": [],
   "source": [
    "def vectorize_stories(data, word_index=tokenizer.word_index, max_story_len=max_story_len,max_question_len=max_question_len):\n",
    "    # X = STORIES\n",
    "    X = []\n",
    "    # Xq = QUERY/QUESTION\n",
    "    Xq = []\n",
    "    # Y = CORRECT ANSWER\n",
    "    Y = []\n",
    "    for story, query, answer in data: \n",
    "        x = [word_index[word.lower()] for word in story]\n",
    "        xq = [word_index[word.lower()] for word in query]\n",
    "        y = np.zeros(len(word_index) + 1)\n",
    "        y[word_index[answer]] = 1\n",
    "        X.append(x)\n",
    "        Xq.append(xq)\n",
    "        Y.append(y)\n",
    "    return (pad_sequences(X, maxlen=max_story_len),pad_sequences(Xq, maxlen=max_question_len), np.array(Y))"
   ]
  },
  {
   "cell_type": "code",
   "execution_count": 31,
   "id": "fdacc199",
   "metadata": {},
   "outputs": [],
   "source": [
    "inputs_train, queries_train, answers_train = vectorize_stories(train_data)"
   ]
  },
  {
   "cell_type": "code",
   "execution_count": 32,
   "id": "283dfd75",
   "metadata": {},
   "outputs": [],
   "source": [
    "inputs_test, queries_test, answers_test = vectorize_stories(test_data)"
   ]
  },
  {
   "cell_type": "code",
   "execution_count": 33,
   "id": "06ca3fd5",
   "metadata": {},
   "outputs": [
    {
     "data": {
      "text/plain": [
       "array([[ 0,  0,  0, ...,  4,  1, 18],\n",
       "       [ 0,  0,  0, ...,  4, 12, 18],\n",
       "       [ 0,  0,  0, ...,  4, 12, 18],\n",
       "       ...,\n",
       "       [ 0,  0,  0, ...,  4, 15, 18],\n",
       "       [ 0,  0,  0, ...,  4, 12, 18],\n",
       "       [ 0,  0,  0, ..., 15, 13, 18]])"
      ]
     },
     "execution_count": 33,
     "metadata": {},
     "output_type": "execute_result"
    }
   ],
   "source": [
    "inputs_test"
   ]
  },
  {
   "cell_type": "code",
   "execution_count": 34,
   "id": "9f6edd0d",
   "metadata": {},
   "outputs": [
    {
     "data": {
      "text/plain": [
       "array([[35, 25,  8,  4, 16,  9],\n",
       "       [35, 25,  8,  4, 16,  9],\n",
       "       [35, 25,  8,  4, 12,  9],\n",
       "       ...,\n",
       "       [35, 22,  8,  4,  1,  9],\n",
       "       [35, 26,  8,  4, 12,  9],\n",
       "       [35, 22,  8,  4, 12,  9]])"
      ]
     },
     "execution_count": 34,
     "metadata": {},
     "output_type": "execute_result"
    }
   ],
   "source": [
    "queries_test"
   ]
  },
  {
   "cell_type": "code",
   "execution_count": 35,
   "id": "2b2de762",
   "metadata": {},
   "outputs": [
    {
     "data": {
      "text/plain": [
       "array([[0., 0., 0., ..., 0., 0., 0.],\n",
       "       [0., 0., 0., ..., 0., 0., 0.],\n",
       "       [0., 0., 0., ..., 0., 0., 0.],\n",
       "       ...,\n",
       "       [0., 0., 0., ..., 0., 0., 0.],\n",
       "       [0., 0., 0., ..., 0., 0., 0.],\n",
       "       [0., 0., 0., ..., 0., 0., 0.]])"
      ]
     },
     "execution_count": 35,
     "metadata": {},
     "output_type": "execute_result"
    }
   ],
   "source": [
    "answers_test"
   ]
  },
  {
   "cell_type": "code",
   "execution_count": 36,
   "id": "a213a858",
   "metadata": {},
   "outputs": [
    {
     "data": {
      "text/plain": [
       "array([  0.,   0.,   0.,   0.,   0.,   0.,   0.,   0.,   0.,   0.,   0.,\n",
       "         0.,   0.,   0.,   0.,   0.,   0.,   0.,   0., 503.,   0.,   0.,\n",
       "         0.,   0.,   0.,   0.,   0.,   0.,   0.,   0.,   0.,   0.,   0.,\n",
       "         0., 497.,   0.,   0.,   0.])"
      ]
     },
     "execution_count": 36,
     "metadata": {},
     "output_type": "execute_result"
    }
   ],
   "source": [
    "sum(answers_test)"
   ]
  },
  {
   "cell_type": "code",
   "execution_count": 37,
   "id": "1f9b22c3",
   "metadata": {},
   "outputs": [
    {
     "data": {
      "text/plain": [
       "34"
      ]
     },
     "execution_count": 37,
     "metadata": {},
     "output_type": "execute_result"
    }
   ],
   "source": [
    "tokenizer.word_index['yes']"
   ]
  },
  {
   "cell_type": "code",
   "execution_count": 38,
   "id": "8a678e08",
   "metadata": {},
   "outputs": [
    {
     "data": {
      "text/plain": [
       "19"
      ]
     },
     "execution_count": 38,
     "metadata": {},
     "output_type": "execute_result"
    }
   ],
   "source": [
    "tokenizer.word_index['no']"
   ]
  },
  {
   "cell_type": "code",
   "execution_count": 39,
   "id": "1f1428ea",
   "metadata": {},
   "outputs": [],
   "source": [
    "from keras.models import Sequential, Model\n",
    "from tensorflow.keras.layers import Embedding\n",
    "from keras.layers import Input, Activation, Dense, Permute, Dropout\n",
    "from keras.layers import add, dot, concatenate\n",
    "from keras.layers import LSTM"
   ]
  },
  {
   "cell_type": "code",
   "execution_count": 40,
   "id": "5d645ca1",
   "metadata": {},
   "outputs": [],
   "source": [
    "input_sequence = Input((max_story_len,))\n",
    "question = Input((max_question_len,))"
   ]
  },
  {
   "cell_type": "code",
   "execution_count": 41,
   "id": "76a1e630",
   "metadata": {},
   "outputs": [],
   "source": [
    "\n",
    "input_encoder_m = Sequential()\n",
    "input_encoder_m.add(Embedding(input_dim=vocab_size,output_dim=64))\n",
    "input_encoder_m.add(Dropout(0.3))\n"
   ]
  },
  {
   "cell_type": "code",
   "execution_count": 42,
   "id": "a6bd6505",
   "metadata": {},
   "outputs": [],
   "source": [
    "input_encoder_c = Sequential()\n",
    "input_encoder_c.add(Embedding(input_dim=vocab_size,output_dim=max_question_len))\n",
    "input_encoder_c.add(Dropout(0.3))\n"
   ]
  },
  {
   "cell_type": "code",
   "execution_count": 43,
   "id": "40cd7324",
   "metadata": {},
   "outputs": [],
   "source": [
    "question_encoder = Sequential()\n",
    "question_encoder.add(Embedding(input_dim=vocab_size,\n",
    "                               output_dim=64,\n",
    "                               input_length=max_question_len))\n",
    "question_encoder.add(Dropout(0.3))"
   ]
  },
  {
   "cell_type": "code",
   "execution_count": 44,
   "id": "e9c5620e",
   "metadata": {},
   "outputs": [],
   "source": [
    "input_encoded_m = input_encoder_m(input_sequence)\n",
    "input_encoded_c = input_encoder_c(input_sequence)\n",
    "question_encoded = question_encoder(question)"
   ]
  },
  {
   "cell_type": "code",
   "execution_count": 45,
   "id": "1f3093e8",
   "metadata": {},
   "outputs": [],
   "source": [
    "match = dot([input_encoded_m, question_encoded], axes=(2, 2))\n",
    "match = Activation('softmax')(match)"
   ]
  },
  {
   "cell_type": "code",
   "execution_count": 46,
   "id": "fb73a276",
   "metadata": {},
   "outputs": [],
   "source": [
    "response = add([match, input_encoded_c])  # (samples, story_maxlen, query_maxlen)\n",
    "response = Permute((2, 1))(response)  # (samples, query_maxlen, story_maxlen)"
   ]
  },
  {
   "cell_type": "code",
   "execution_count": 47,
   "id": "40f6c2b7",
   "metadata": {},
   "outputs": [],
   "source": [
    "answer = concatenate([response, question_encoded])"
   ]
  },
  {
   "cell_type": "code",
   "execution_count": 48,
   "id": "f4a80d4d",
   "metadata": {},
   "outputs": [
    {
     "data": {
      "text/plain": [
       "<KerasTensor: shape=(None, 6, 220) dtype=float32 (created by layer 'concatenate')>"
      ]
     },
     "execution_count": 48,
     "metadata": {},
     "output_type": "execute_result"
    }
   ],
   "source": [
    "answer"
   ]
  },
  {
   "cell_type": "code",
   "execution_count": 49,
   "id": "981a20b1",
   "metadata": {},
   "outputs": [],
   "source": [
    "answer = LSTM(32)(answer)"
   ]
  },
  {
   "cell_type": "code",
   "execution_count": 50,
   "id": "c07e353c",
   "metadata": {},
   "outputs": [],
   "source": [
    "answer = Dropout(0.5)(answer)\n",
    "answer = Dense(vocab_size)(answer)  # (samples, vocab_size)"
   ]
  },
  {
   "cell_type": "code",
   "execution_count": 51,
   "id": "f95a8a06",
   "metadata": {},
   "outputs": [],
   "source": [
    "answer = Activation('softmax')(answer)"
   ]
  },
  {
   "cell_type": "code",
   "execution_count": 52,
   "id": "031fc165",
   "metadata": {},
   "outputs": [],
   "source": [
    "model = Model([input_sequence, question], answer)\n",
    "model.compile(optimizer='rmsprop', loss='categorical_crossentropy',\n",
    "              metrics=['accuracy'])"
   ]
  },
  {
   "cell_type": "code",
   "execution_count": 53,
   "id": "51e6fc39",
   "metadata": {},
   "outputs": [
    {
     "name": "stdout",
     "output_type": "stream",
     "text": [
      "Model: \"model\"\n",
      "__________________________________________________________________________________________________\n",
      " Layer (type)                   Output Shape         Param #     Connected to                     \n",
      "==================================================================================================\n",
      " input_1 (InputLayer)           [(None, 156)]        0           []                               \n",
      "                                                                                                  \n",
      " input_2 (InputLayer)           [(None, 6)]          0           []                               \n",
      "                                                                                                  \n",
      " sequential (Sequential)        (None, None, 64)     2432        ['input_1[0][0]']                \n",
      "                                                                                                  \n",
      " sequential_2 (Sequential)      (None, 6, 64)        2432        ['input_2[0][0]']                \n",
      "                                                                                                  \n",
      " dot (Dot)                      (None, 156, 6)       0           ['sequential[0][0]',             \n",
      "                                                                  'sequential_2[0][0]']           \n",
      "                                                                                                  \n",
      " activation (Activation)        (None, 156, 6)       0           ['dot[0][0]']                    \n",
      "                                                                                                  \n",
      " sequential_1 (Sequential)      (None, None, 6)      228         ['input_1[0][0]']                \n",
      "                                                                                                  \n",
      " add (Add)                      (None, 156, 6)       0           ['activation[0][0]',             \n",
      "                                                                  'sequential_1[0][0]']           \n",
      "                                                                                                  \n",
      " permute (Permute)              (None, 6, 156)       0           ['add[0][0]']                    \n",
      "                                                                                                  \n",
      " concatenate (Concatenate)      (None, 6, 220)       0           ['permute[0][0]',                \n",
      "                                                                  'sequential_2[0][0]']           \n",
      "                                                                                                  \n",
      " lstm (LSTM)                    (None, 32)           32384       ['concatenate[0][0]']            \n",
      "                                                                                                  \n",
      " dropout_3 (Dropout)            (None, 32)           0           ['lstm[0][0]']                   \n",
      "                                                                                                  \n",
      " dense (Dense)                  (None, 38)           1254        ['dropout_3[0][0]']              \n",
      "                                                                                                  \n",
      " activation_1 (Activation)      (None, 38)           0           ['dense[0][0]']                  \n",
      "                                                                                                  \n",
      "==================================================================================================\n",
      "Total params: 38,730\n",
      "Trainable params: 38,730\n",
      "Non-trainable params: 0\n",
      "__________________________________________________________________________________________________\n"
     ]
    }
   ],
   "source": [
    "model.summary()"
   ]
  },
  {
   "cell_type": "code",
   "execution_count": 54,
   "id": "f9ad76de",
   "metadata": {
    "scrolled": true
   },
   "outputs": [
    {
     "name": "stdout",
     "output_type": "stream",
     "text": [
      "Epoch 1/120\n",
      "313/313 [==============================] - 8s 16ms/step - loss: 0.8768 - accuracy: 0.4875 - val_loss: 0.7026 - val_accuracy: 0.5030\n",
      "Epoch 2/120\n",
      "313/313 [==============================] - 4s 13ms/step - loss: 0.7032 - accuracy: 0.5004 - val_loss: 0.6958 - val_accuracy: 0.4970\n",
      "Epoch 3/120\n",
      "313/313 [==============================] - 4s 13ms/step - loss: 0.6978 - accuracy: 0.5011 - val_loss: 0.6986 - val_accuracy: 0.4970\n",
      "Epoch 4/120\n",
      "313/313 [==============================] - 4s 13ms/step - loss: 0.6960 - accuracy: 0.5011 - val_loss: 0.6947 - val_accuracy: 0.4970\n",
      "Epoch 5/120\n",
      "313/313 [==============================] - 4s 13ms/step - loss: 0.6956 - accuracy: 0.4994 - val_loss: 0.6932 - val_accuracy: 0.5120\n",
      "Epoch 6/120\n",
      "313/313 [==============================] - 4s 13ms/step - loss: 0.6954 - accuracy: 0.4995 - val_loss: 0.6931 - val_accuracy: 0.5030\n",
      "Epoch 7/120\n",
      "313/313 [==============================] - 4s 13ms/step - loss: 0.6958 - accuracy: 0.4960 - val_loss: 0.6932 - val_accuracy: 0.4970\n",
      "Epoch 8/120\n",
      "313/313 [==============================] - 4s 13ms/step - loss: 0.6955 - accuracy: 0.5002 - val_loss: 0.6931 - val_accuracy: 0.5030\n",
      "Epoch 9/120\n",
      "313/313 [==============================] - 4s 13ms/step - loss: 0.6959 - accuracy: 0.4939 - val_loss: 0.6933 - val_accuracy: 0.4970\n",
      "Epoch 10/120\n",
      "313/313 [==============================] - 4s 13ms/step - loss: 0.6955 - accuracy: 0.4940 - val_loss: 0.6932 - val_accuracy: 0.4970\n",
      "Epoch 11/120\n",
      "313/313 [==============================] - 4s 13ms/step - loss: 0.6954 - accuracy: 0.4961 - val_loss: 0.6942 - val_accuracy: 0.4970\n",
      "Epoch 12/120\n",
      "313/313 [==============================] - 4s 13ms/step - loss: 0.6948 - accuracy: 0.5029 - val_loss: 0.6937 - val_accuracy: 0.5030\n",
      "Epoch 13/120\n",
      "313/313 [==============================] - 4s 13ms/step - loss: 0.6955 - accuracy: 0.4989 - val_loss: 0.6933 - val_accuracy: 0.4970\n",
      "Epoch 14/120\n",
      "313/313 [==============================] - 4s 13ms/step - loss: 0.6953 - accuracy: 0.5005 - val_loss: 0.6933 - val_accuracy: 0.4970\n",
      "Epoch 15/120\n",
      "313/313 [==============================] - 4s 13ms/step - loss: 0.6948 - accuracy: 0.5064 - val_loss: 0.6932 - val_accuracy: 0.5030\n",
      "Epoch 16/120\n",
      "313/313 [==============================] - 4s 13ms/step - loss: 0.6952 - accuracy: 0.5003 - val_loss: 0.6931 - val_accuracy: 0.5030\n",
      "Epoch 17/120\n",
      "313/313 [==============================] - 4s 13ms/step - loss: 0.6949 - accuracy: 0.5006 - val_loss: 0.6936 - val_accuracy: 0.4970\n",
      "Epoch 18/120\n",
      "313/313 [==============================] - 4s 13ms/step - loss: 0.6951 - accuracy: 0.5021 - val_loss: 0.6932 - val_accuracy: 0.5030\n",
      "Epoch 19/120\n",
      "313/313 [==============================] - 4s 13ms/step - loss: 0.6955 - accuracy: 0.4877 - val_loss: 0.6936 - val_accuracy: 0.5030\n",
      "Epoch 20/120\n",
      "313/313 [==============================] - 4s 13ms/step - loss: 0.6953 - accuracy: 0.4979 - val_loss: 0.6939 - val_accuracy: 0.4970\n",
      "Epoch 21/120\n",
      "313/313 [==============================] - 4s 13ms/step - loss: 0.6954 - accuracy: 0.4948 - val_loss: 0.6940 - val_accuracy: 0.4970\n",
      "Epoch 22/120\n",
      "313/313 [==============================] - 4s 13ms/step - loss: 0.6946 - accuracy: 0.5062 - val_loss: 0.6932 - val_accuracy: 0.5030\n",
      "Epoch 23/120\n",
      "313/313 [==============================] - 4s 13ms/step - loss: 0.6953 - accuracy: 0.4981 - val_loss: 0.6932 - val_accuracy: 0.5030\n",
      "Epoch 24/120\n",
      "313/313 [==============================] - 4s 13ms/step - loss: 0.6950 - accuracy: 0.5037 - val_loss: 0.6944 - val_accuracy: 0.5030\n",
      "Epoch 25/120\n",
      "313/313 [==============================] - 4s 13ms/step - loss: 0.6954 - accuracy: 0.4900 - val_loss: 0.6931 - val_accuracy: 0.5030\n",
      "Epoch 26/120\n",
      "313/313 [==============================] - 4s 13ms/step - loss: 0.6948 - accuracy: 0.5015 - val_loss: 0.6936 - val_accuracy: 0.4970\n",
      "Epoch 27/120\n",
      "313/313 [==============================] - 4s 14ms/step - loss: 0.6949 - accuracy: 0.4986 - val_loss: 0.6933 - val_accuracy: 0.4970\n",
      "Epoch 28/120\n",
      "313/313 [==============================] - 4s 14ms/step - loss: 0.6946 - accuracy: 0.5064 - val_loss: 0.6964 - val_accuracy: 0.5030\n",
      "Epoch 29/120\n",
      "313/313 [==============================] - 4s 14ms/step - loss: 0.6956 - accuracy: 0.4924 - val_loss: 0.6939 - val_accuracy: 0.5030\n",
      "Epoch 30/120\n",
      "313/313 [==============================] - 4s 14ms/step - loss: 0.6939 - accuracy: 0.5094 - val_loss: 0.6932 - val_accuracy: 0.5070\n",
      "Epoch 31/120\n",
      "313/313 [==============================] - 4s 14ms/step - loss: 0.6946 - accuracy: 0.5098 - val_loss: 0.6932 - val_accuracy: 0.5030\n",
      "Epoch 32/120\n",
      "313/313 [==============================] - 4s 13ms/step - loss: 0.6946 - accuracy: 0.4999 - val_loss: 0.6943 - val_accuracy: 0.4970\n",
      "Epoch 33/120\n",
      "313/313 [==============================] - 4s 14ms/step - loss: 0.6943 - accuracy: 0.5093 - val_loss: 0.6944 - val_accuracy: 0.4970\n",
      "Epoch 34/120\n",
      "313/313 [==============================] - 4s 14ms/step - loss: 0.6943 - accuracy: 0.5041 - val_loss: 0.6945 - val_accuracy: 0.4970\n",
      "Epoch 35/120\n",
      "313/313 [==============================] - 4s 13ms/step - loss: 0.6946 - accuracy: 0.5008 - val_loss: 0.6933 - val_accuracy: 0.4970\n",
      "Epoch 36/120\n",
      "313/313 [==============================] - 4s 13ms/step - loss: 0.6954 - accuracy: 0.4933 - val_loss: 0.6935 - val_accuracy: 0.4970\n",
      "Epoch 37/120\n",
      "313/313 [==============================] - 4s 14ms/step - loss: 0.6949 - accuracy: 0.5002 - val_loss: 0.6947 - val_accuracy: 0.5030\n",
      "Epoch 38/120\n",
      "313/313 [==============================] - 4s 13ms/step - loss: 0.6947 - accuracy: 0.5026 - val_loss: 0.6932 - val_accuracy: 0.5030\n",
      "Epoch 39/120\n",
      "313/313 [==============================] - 4s 13ms/step - loss: 0.6944 - accuracy: 0.5051 - val_loss: 0.6939 - val_accuracy: 0.5030\n",
      "Epoch 40/120\n",
      "313/313 [==============================] - 4s 14ms/step - loss: 0.6952 - accuracy: 0.5011 - val_loss: 0.6932 - val_accuracy: 0.5060\n",
      "Epoch 41/120\n",
      "313/313 [==============================] - 4s 14ms/step - loss: 0.6950 - accuracy: 0.4956 - val_loss: 0.6935 - val_accuracy: 0.5030\n",
      "Epoch 42/120\n",
      "313/313 [==============================] - 4s 14ms/step - loss: 0.6947 - accuracy: 0.5025 - val_loss: 0.6932 - val_accuracy: 0.5030\n",
      "Epoch 43/120\n",
      "313/313 [==============================] - 4s 14ms/step - loss: 0.6949 - accuracy: 0.4959 - val_loss: 0.6934 - val_accuracy: 0.5030\n",
      "Epoch 44/120\n",
      "313/313 [==============================] - 4s 13ms/step - loss: 0.6952 - accuracy: 0.4917 - val_loss: 0.6933 - val_accuracy: 0.5030\n",
      "Epoch 45/120\n",
      "313/313 [==============================] - 4s 14ms/step - loss: 0.6946 - accuracy: 0.5031 - val_loss: 0.6937 - val_accuracy: 0.4970\n",
      "Epoch 46/120\n",
      "313/313 [==============================] - 4s 14ms/step - loss: 0.6951 - accuracy: 0.4935 - val_loss: 0.6935 - val_accuracy: 0.5030\n",
      "Epoch 47/120\n",
      "313/313 [==============================] - 4s 14ms/step - loss: 0.6952 - accuracy: 0.4992 - val_loss: 0.6939 - val_accuracy: 0.5030\n",
      "Epoch 48/120\n",
      "313/313 [==============================] - 4s 14ms/step - loss: 0.6947 - accuracy: 0.5037 - val_loss: 0.6932 - val_accuracy: 0.5030\n",
      "Epoch 49/120\n",
      "313/313 [==============================] - 4s 14ms/step - loss: 0.6945 - accuracy: 0.5080 - val_loss: 0.6936 - val_accuracy: 0.4970\n",
      "Epoch 50/120\n",
      "313/313 [==============================] - 4s 14ms/step - loss: 0.6946 - accuracy: 0.4980 - val_loss: 0.6932 - val_accuracy: 0.5030\n",
      "Epoch 51/120\n",
      "313/313 [==============================] - 4s 14ms/step - loss: 0.6953 - accuracy: 0.4991 - val_loss: 0.6931 - val_accuracy: 0.5030\n",
      "Epoch 52/120\n",
      "313/313 [==============================] - 4s 14ms/step - loss: 0.6941 - accuracy: 0.5021 - val_loss: 0.6932 - val_accuracy: 0.4980\n",
      "Epoch 53/120\n",
      "313/313 [==============================] - 4s 14ms/step - loss: 0.6943 - accuracy: 0.5045 - val_loss: 0.6938 - val_accuracy: 0.4970\n",
      "Epoch 54/120\n",
      "313/313 [==============================] - 4s 14ms/step - loss: 0.6942 - accuracy: 0.5095 - val_loss: 0.6967 - val_accuracy: 0.4970\n",
      "Epoch 55/120\n",
      "313/313 [==============================] - 4s 14ms/step - loss: 0.6951 - accuracy: 0.4943 - val_loss: 0.6932 - val_accuracy: 0.5030\n",
      "Epoch 56/120\n",
      "313/313 [==============================] - 4s 14ms/step - loss: 0.6944 - accuracy: 0.5020 - val_loss: 0.6932 - val_accuracy: 0.4970\n",
      "Epoch 57/120\n"
     ]
    },
    {
     "name": "stdout",
     "output_type": "stream",
     "text": [
      "313/313 [==============================] - 4s 14ms/step - loss: 0.6952 - accuracy: 0.4896 - val_loss: 0.6933 - val_accuracy: 0.5030\n",
      "Epoch 58/120\n",
      "313/313 [==============================] - 4s 14ms/step - loss: 0.6946 - accuracy: 0.5086 - val_loss: 0.6945 - val_accuracy: 0.5030\n",
      "Epoch 59/120\n",
      "313/313 [==============================] - 4s 14ms/step - loss: 0.6943 - accuracy: 0.5021 - val_loss: 0.6940 - val_accuracy: 0.4970\n",
      "Epoch 60/120\n",
      "313/313 [==============================] - 4s 14ms/step - loss: 0.6947 - accuracy: 0.4973 - val_loss: 0.6964 - val_accuracy: 0.4970\n",
      "Epoch 61/120\n",
      "313/313 [==============================] - 4s 14ms/step - loss: 0.6945 - accuracy: 0.5073 - val_loss: 0.6944 - val_accuracy: 0.4970\n",
      "Epoch 62/120\n",
      "313/313 [==============================] - 4s 14ms/step - loss: 0.6945 - accuracy: 0.5105 - val_loss: 0.6931 - val_accuracy: 0.5070\n",
      "Epoch 63/120\n",
      "313/313 [==============================] - 4s 14ms/step - loss: 0.6950 - accuracy: 0.4966 - val_loss: 0.6930 - val_accuracy: 0.5060\n",
      "Epoch 64/120\n",
      "313/313 [==============================] - 4s 14ms/step - loss: 0.6938 - accuracy: 0.5107 - val_loss: 0.6935 - val_accuracy: 0.5040\n",
      "Epoch 65/120\n",
      "313/313 [==============================] - 4s 14ms/step - loss: 0.6936 - accuracy: 0.5078 - val_loss: 0.6959 - val_accuracy: 0.4930\n",
      "Epoch 66/120\n",
      "313/313 [==============================] - 4s 14ms/step - loss: 0.6928 - accuracy: 0.5092 - val_loss: 0.6976 - val_accuracy: 0.5020\n",
      "Epoch 67/120\n",
      "313/313 [==============================] - 4s 14ms/step - loss: 0.6923 - accuracy: 0.5233 - val_loss: 0.6939 - val_accuracy: 0.4940\n",
      "Epoch 68/120\n",
      "313/313 [==============================] - 4s 14ms/step - loss: 0.6915 - accuracy: 0.5236 - val_loss: 0.6935 - val_accuracy: 0.5030\n",
      "Epoch 69/120\n",
      "313/313 [==============================] - 4s 14ms/step - loss: 0.6910 - accuracy: 0.5295 - val_loss: 0.7010 - val_accuracy: 0.5050\n",
      "Epoch 70/120\n",
      "313/313 [==============================] - 4s 14ms/step - loss: 0.6912 - accuracy: 0.5291 - val_loss: 0.6915 - val_accuracy: 0.5320\n",
      "Epoch 71/120\n",
      "313/313 [==============================] - 4s 14ms/step - loss: 0.6874 - accuracy: 0.5399 - val_loss: 0.6944 - val_accuracy: 0.5350\n",
      "Epoch 72/120\n",
      "313/313 [==============================] - 4s 14ms/step - loss: 0.6757 - accuracy: 0.5746 - val_loss: 0.6641 - val_accuracy: 0.6260\n",
      "Epoch 73/120\n",
      "313/313 [==============================] - 4s 14ms/step - loss: 0.6600 - accuracy: 0.6077 - val_loss: 0.6423 - val_accuracy: 0.6600\n",
      "Epoch 74/120\n",
      "313/313 [==============================] - 4s 14ms/step - loss: 0.6407 - accuracy: 0.6333 - val_loss: 0.6214 - val_accuracy: 0.6830\n",
      "Epoch 75/120\n",
      "313/313 [==============================] - 4s 14ms/step - loss: 0.6266 - accuracy: 0.6481 - val_loss: 0.5960 - val_accuracy: 0.6920\n",
      "Epoch 76/120\n",
      "313/313 [==============================] - 2s 7ms/step - loss: 0.6017 - accuracy: 0.6815 - val_loss: 0.5733 - val_accuracy: 0.7060\n",
      "Epoch 77/120\n",
      "313/313 [==============================] - 2s 7ms/step - loss: 0.5783 - accuracy: 0.7041 - val_loss: 0.5539 - val_accuracy: 0.7220\n",
      "Epoch 78/120\n",
      "313/313 [==============================] - 4s 12ms/step - loss: 0.5706 - accuracy: 0.7134 - val_loss: 0.5352 - val_accuracy: 0.7350\n",
      "Epoch 79/120\n",
      "313/313 [==============================] - 4s 14ms/step - loss: 0.5428 - accuracy: 0.7338 - val_loss: 0.5229 - val_accuracy: 0.7450\n",
      "Epoch 80/120\n",
      "313/313 [==============================] - 4s 14ms/step - loss: 0.5242 - accuracy: 0.7522 - val_loss: 0.4753 - val_accuracy: 0.7820\n",
      "Epoch 81/120\n",
      "313/313 [==============================] - 4s 14ms/step - loss: 0.5047 - accuracy: 0.7681 - val_loss: 0.4585 - val_accuracy: 0.7990\n",
      "Epoch 82/120\n",
      "313/313 [==============================] - 4s 14ms/step - loss: 0.4853 - accuracy: 0.7790 - val_loss: 0.4422 - val_accuracy: 0.8050\n",
      "Epoch 83/120\n",
      "313/313 [==============================] - 4s 14ms/step - loss: 0.4796 - accuracy: 0.7856 - val_loss: 0.4428 - val_accuracy: 0.7970\n",
      "Epoch 84/120\n",
      "313/313 [==============================] - 4s 14ms/step - loss: 0.4645 - accuracy: 0.8000 - val_loss: 0.4313 - val_accuracy: 0.8040\n",
      "Epoch 85/120\n",
      "313/313 [==============================] - 4s 14ms/step - loss: 0.4555 - accuracy: 0.7987 - val_loss: 0.4234 - val_accuracy: 0.8060\n",
      "Epoch 86/120\n",
      "313/313 [==============================] - 4s 14ms/step - loss: 0.4502 - accuracy: 0.8099 - val_loss: 0.4240 - val_accuracy: 0.8230\n",
      "Epoch 87/120\n",
      "313/313 [==============================] - 4s 14ms/step - loss: 0.4447 - accuracy: 0.8100 - val_loss: 0.4169 - val_accuracy: 0.8210\n",
      "Epoch 88/120\n",
      "313/313 [==============================] - 4s 14ms/step - loss: 0.4358 - accuracy: 0.8161 - val_loss: 0.4265 - val_accuracy: 0.8240\n",
      "Epoch 89/120\n",
      "313/313 [==============================] - 4s 14ms/step - loss: 0.4190 - accuracy: 0.8266 - val_loss: 0.4173 - val_accuracy: 0.8270\n",
      "Epoch 90/120\n",
      "313/313 [==============================] - 4s 14ms/step - loss: 0.4184 - accuracy: 0.8298 - val_loss: 0.4273 - val_accuracy: 0.8230\n",
      "Epoch 91/120\n",
      "313/313 [==============================] - 4s 14ms/step - loss: 0.4116 - accuracy: 0.8292 - val_loss: 0.4035 - val_accuracy: 0.8240\n",
      "Epoch 92/120\n",
      "313/313 [==============================] - 4s 14ms/step - loss: 0.4069 - accuracy: 0.8289 - val_loss: 0.4085 - val_accuracy: 0.8270\n",
      "Epoch 93/120\n",
      "313/313 [==============================] - 4s 13ms/step - loss: 0.4004 - accuracy: 0.8404 - val_loss: 0.4004 - val_accuracy: 0.8190\n",
      "Epoch 94/120\n",
      "313/313 [==============================] - 4s 14ms/step - loss: 0.3916 - accuracy: 0.8357 - val_loss: 0.4039 - val_accuracy: 0.8210\n",
      "Epoch 95/120\n",
      "313/313 [==============================] - 4s 14ms/step - loss: 0.3913 - accuracy: 0.8371 - val_loss: 0.4105 - val_accuracy: 0.8020\n",
      "Epoch 96/120\n",
      "313/313 [==============================] - 4s 13ms/step - loss: 0.3889 - accuracy: 0.8358 - val_loss: 0.4090 - val_accuracy: 0.8280\n",
      "Epoch 97/120\n",
      "313/313 [==============================] - 4s 14ms/step - loss: 0.3803 - accuracy: 0.8371 - val_loss: 0.4023 - val_accuracy: 0.8280\n",
      "Epoch 98/120\n",
      "313/313 [==============================] - 4s 14ms/step - loss: 0.3779 - accuracy: 0.8454 - val_loss: 0.3916 - val_accuracy: 0.8280\n",
      "Epoch 99/120\n",
      "313/313 [==============================] - 4s 14ms/step - loss: 0.3736 - accuracy: 0.8472 - val_loss: 0.3962 - val_accuracy: 0.8260\n",
      "Epoch 100/120\n",
      "313/313 [==============================] - 4s 14ms/step - loss: 0.3724 - accuracy: 0.8440 - val_loss: 0.4156 - val_accuracy: 0.8240\n",
      "Epoch 101/120\n",
      "313/313 [==============================] - 4s 14ms/step - loss: 0.3660 - accuracy: 0.8501 - val_loss: 0.3939 - val_accuracy: 0.8130\n",
      "Epoch 102/120\n",
      "313/313 [==============================] - 4s 14ms/step - loss: 0.3578 - accuracy: 0.8515 - val_loss: 0.3905 - val_accuracy: 0.8230\n",
      "Epoch 103/120\n",
      "313/313 [==============================] - 4s 14ms/step - loss: 0.3604 - accuracy: 0.8500 - val_loss: 0.3994 - val_accuracy: 0.8280\n",
      "Epoch 104/120\n",
      "313/313 [==============================] - 4s 14ms/step - loss: 0.3539 - accuracy: 0.8545 - val_loss: 0.4139 - val_accuracy: 0.8290\n",
      "Epoch 105/120\n",
      "313/313 [==============================] - 4s 14ms/step - loss: 0.3482 - accuracy: 0.8550 - val_loss: 0.3921 - val_accuracy: 0.8200\n",
      "Epoch 106/120\n",
      "313/313 [==============================] - 4s 14ms/step - loss: 0.3546 - accuracy: 0.8529 - val_loss: 0.4083 - val_accuracy: 0.8200\n",
      "Epoch 107/120\n",
      "313/313 [==============================] - 4s 14ms/step - loss: 0.3490 - accuracy: 0.8557 - val_loss: 0.4016 - val_accuracy: 0.8340\n",
      "Epoch 108/120\n",
      "313/313 [==============================] - 4s 14ms/step - loss: 0.3518 - accuracy: 0.8518 - val_loss: 0.3926 - val_accuracy: 0.8280\n",
      "Epoch 109/120\n",
      "313/313 [==============================] - 4s 14ms/step - loss: 0.3493 - accuracy: 0.8550 - val_loss: 0.3914 - val_accuracy: 0.8220\n",
      "Epoch 110/120\n",
      "313/313 [==============================] - 4s 14ms/step - loss: 0.3448 - accuracy: 0.8534 - val_loss: 0.4017 - val_accuracy: 0.8210\n",
      "Epoch 111/120\n",
      "313/313 [==============================] - 4s 14ms/step - loss: 0.3487 - accuracy: 0.8541 - val_loss: 0.3892 - val_accuracy: 0.8310\n",
      "Epoch 112/120\n",
      "313/313 [==============================] - 4s 14ms/step - loss: 0.3333 - accuracy: 0.8603 - val_loss: 0.3876 - val_accuracy: 0.8320\n",
      "Epoch 113/120\n"
     ]
    },
    {
     "name": "stdout",
     "output_type": "stream",
     "text": [
      "313/313 [==============================] - 4s 14ms/step - loss: 0.3339 - accuracy: 0.8577 - val_loss: 0.3979 - val_accuracy: 0.8280\n",
      "Epoch 114/120\n",
      "313/313 [==============================] - 4s 14ms/step - loss: 0.3299 - accuracy: 0.8595 - val_loss: 0.4070 - val_accuracy: 0.8210\n",
      "Epoch 115/120\n",
      "313/313 [==============================] - 4s 14ms/step - loss: 0.3319 - accuracy: 0.8610 - val_loss: 0.4010 - val_accuracy: 0.8170\n",
      "Epoch 116/120\n",
      "313/313 [==============================] - 4s 14ms/step - loss: 0.3318 - accuracy: 0.8628 - val_loss: 0.4032 - val_accuracy: 0.8200\n",
      "Epoch 117/120\n",
      "313/313 [==============================] - 4s 14ms/step - loss: 0.3289 - accuracy: 0.8627 - val_loss: 0.3952 - val_accuracy: 0.8210\n",
      "Epoch 118/120\n",
      "313/313 [==============================] - 4s 14ms/step - loss: 0.3278 - accuracy: 0.8634 - val_loss: 0.4032 - val_accuracy: 0.8220\n",
      "Epoch 119/120\n",
      "313/313 [==============================] - 4s 14ms/step - loss: 0.3249 - accuracy: 0.8659 - val_loss: 0.4023 - val_accuracy: 0.8210\n",
      "Epoch 120/120\n",
      "313/313 [==============================] - 4s 14ms/step - loss: 0.3213 - accuracy: 0.8712 - val_loss: 0.3980 - val_accuracy: 0.8170\n"
     ]
    }
   ],
   "source": [
    "history = model.fit([inputs_train, queries_train], answers_train,batch_size=32,epochs=120,validation_data=([inputs_test, queries_test], answers_test))"
   ]
  },
  {
   "cell_type": "code",
   "execution_count": 55,
   "id": "0cf2e2fd",
   "metadata": {},
   "outputs": [],
   "source": [
    "filename = 'chatbot_120_epochs.h5'\n",
    "model.save(filename)"
   ]
  },
  {
   "cell_type": "code",
   "execution_count": 56,
   "id": "9bcc4c80",
   "metadata": {},
   "outputs": [
    {
     "name": "stdout",
     "output_type": "stream",
     "text": [
      "dict_keys(['loss', 'accuracy', 'val_loss', 'val_accuracy'])\n"
     ]
    },
    {
     "data": {
      "image/png": "[encoded data removed]",
      "text/plain": [
       "<Figure size 640x480 with 1 Axes>"
      ]
     },
     "metadata": {},
     "output_type": "display_data"
    }
   ],
   "source": [
    "import matplotlib.pyplot as plt\n",
    "%matplotlib inline\n",
    "print(history.history.keys())\n",
    "# summarize history for accuracy\n",
    "plt.plot(history.history['accuracy'])\n",
    "plt.plot(history.history['val_accuracy'])\n",
    "plt.title('model accuracy')\n",
    "plt.ylabel('accuracy')\n",
    "plt.xlabel('epoch')\n",
    "plt.legend(['train', 'test'], loc='upper left')\n",
    "plt.show()"
   ]
  },
  {
   "cell_type": "code",
   "execution_count": 99,
   "id": "53034599",
   "metadata": {},
   "outputs": [
    {
     "name": "stdout",
     "output_type": "stream",
     "text": [
      "32/32 [==============================] - 0s 5ms/step\n"
     ]
    }
   ],
   "source": [
    "model.load_weights(filename)\n",
    "pred_results = model.predict(([inputs_test, queries_test]))"
   ]
  },
  {
   "cell_type": "code",
   "execution_count": 100,
   "id": "15c6782a",
   "metadata": {},
   "outputs": [
    {
     "data": {
      "text/plain": [
       "['Mary',\n",
       " 'got',\n",
       " 'the',\n",
       " 'milk',\n",
       " 'there',\n",
       " '.',\n",
       " 'John',\n",
       " 'moved',\n",
       " 'to',\n",
       " 'the',\n",
       " 'bedroom',\n",
       " '.']"
      ]
     },
     "execution_count": 100,
     "metadata": {},
     "output_type": "execute_result"
    }
   ],
   "source": [
    "test_data[0][0]"
   ]
  },
  {
   "cell_type": "code",
   "execution_count": 101,
   "id": "b18f2f6a",
   "metadata": {},
   "outputs": [
    {
     "name": "stdout",
     "output_type": "stream",
     "text": [
      "Mary got the milk there . John moved to the bedroom .\n"
     ]
    }
   ],
   "source": [
    "story =' '.join(word for word in test_data[0][0])\n",
    "print(story)"
   ]
  },
  {
   "cell_type": "code",
   "execution_count": 102,
   "id": "927d02c3",
   "metadata": {},
   "outputs": [
    {
     "name": "stdout",
     "output_type": "stream",
     "text": [
      "Is John in the kitchen ?\n"
     ]
    }
   ],
   "source": [
    "query = ' '.join(word for word in test_data[0][1])\n",
    "print(query)"
   ]
  },
  {
   "cell_type": "code",
   "execution_count": 103,
   "id": "40d30fb8",
   "metadata": {},
   "outputs": [
    {
     "name": "stdout",
     "output_type": "stream",
     "text": [
      "True Test Answer from Data is: no\n"
     ]
    }
   ],
   "source": [
    "print(\"True Test Answer from Data is:\",test_data[0][2])"
   ]
  },
  {
   "cell_type": "code",
   "execution_count": 104,
   "id": "a774edd4",
   "metadata": {},
   "outputs": [
    {
     "name": "stdout",
     "output_type": "stream",
     "text": [
      "Predicted answer is:  no\n",
      "Probability of certainty was:  0.992161\n"
     ]
    }
   ],
   "source": [
    "val_max = np.argmax(pred_results[0])\n",
    "\n",
    "for key, val in tokenizer.word_index.items():\n",
    "    if val == val_max:\n",
    "        k = key\n",
    "\n",
    "print(\"Predicted answer is: \", k)\n",
    "print(\"Probability of certainty was: \", pred_results[0][val_max])"
   ]
  },
  {
   "cell_type": "code",
   "execution_count": 105,
   "id": "53ad1657",
   "metadata": {},
   "outputs": [
    {
     "data": {
      "text/plain": [
       "{'.',\n",
       " '?',\n",
       " 'Daniel',\n",
       " 'Is',\n",
       " 'John',\n",
       " 'Mary',\n",
       " 'Sandra',\n",
       " 'apple',\n",
       " 'back',\n",
       " 'bathroom',\n",
       " 'bedroom',\n",
       " 'discarded',\n",
       " 'down',\n",
       " 'dropped',\n",
       " 'football',\n",
       " 'garden',\n",
       " 'got',\n",
       " 'grabbed',\n",
       " 'hallway',\n",
       " 'in',\n",
       " 'journeyed',\n",
       " 'kitchen',\n",
       " 'left',\n",
       " 'milk',\n",
       " 'moved',\n",
       " 'no',\n",
       " 'office',\n",
       " 'picked',\n",
       " 'put',\n",
       " 'the',\n",
       " 'there',\n",
       " 'to',\n",
       " 'took',\n",
       " 'travelled',\n",
       " 'up',\n",
       " 'went',\n",
       " 'yes'}"
      ]
     },
     "execution_count": 105,
     "metadata": {},
     "output_type": "execute_result"
    }
   ],
   "source": [
    "vocab"
   ]
  },
  {
   "cell_type": "code",
   "execution_count": 106,
   "id": "d2208708",
   "metadata": {},
   "outputs": [
    {
     "data": {
      "text/plain": [
       "['John',\n",
       " 'left',\n",
       " 'the',\n",
       " 'kitchen',\n",
       " '.',\n",
       " 'Sandra',\n",
       " 'dropped',\n",
       " 'the',\n",
       " 'football',\n",
       " 'in',\n",
       " 'the',\n",
       " 'garden',\n",
       " '.']"
      ]
     },
     "execution_count": 106,
     "metadata": {},
     "output_type": "execute_result"
    }
   ],
   "source": [
    "my_story = \"John left the kitchen . Sandra dropped the football in the garden .\"\n",
    "my_story.split()"
   ]
  },
  {
   "cell_type": "code",
   "execution_count": 107,
   "id": "36564abc",
   "metadata": {},
   "outputs": [],
   "source": [
    "my_question = \"Is the football in the garden ?\""
   ]
  },
  {
   "cell_type": "code",
   "execution_count": 108,
   "id": "7c1859fc",
   "metadata": {},
   "outputs": [
    {
     "data": {
      "text/plain": [
       "['Is', 'the', 'football', 'in', 'the', 'garden', '?']"
      ]
     },
     "execution_count": 108,
     "metadata": {},
     "output_type": "execute_result"
    }
   ],
   "source": [
    "my_question.split()"
   ]
  },
  {
   "cell_type": "code",
   "execution_count": 109,
   "id": "07bb6c67",
   "metadata": {},
   "outputs": [],
   "source": [
    "mydata = [(my_story.split(),my_question.split(),'?')]"
   ]
  },
  {
   "cell_type": "code",
   "execution_count": 110,
   "id": "8a54e901",
   "metadata": {},
   "outputs": [],
   "source": [
    "my_story,my_ques,my_ans = vectorize_stories(mydata)"
   ]
  },
  {
   "cell_type": "code",
   "execution_count": 111,
   "id": "798cc212",
   "metadata": {},
   "outputs": [
    {
     "name": "stdout",
     "output_type": "stream",
     "text": [
      "1/1 [==============================] - 0s 31ms/step\n"
     ]
    }
   ],
   "source": [
    "pred_results = model.predict(([ my_story, my_ques]))"
   ]
  },
  {
   "cell_type": "code",
   "execution_count": 112,
   "id": "fcfd6f45",
   "metadata": {},
   "outputs": [
    {
     "name": "stdout",
     "output_type": "stream",
     "text": [
      "Predicted answer is:  yes\n",
      "Probability of certainty was:  0.9848247\n"
     ]
    }
   ],
   "source": [
    "val_max = np.argmax(pred_results[0])\n",
    "\n",
    "for key, val in tokenizer.word_index.items():\n",
    "    if val == val_max:\n",
    "        k = key\n",
    "\n",
    "print(\"Predicted answer is: \", k)\n",
    "print(\"Probability of certainty was: \", pred_results[0][val_max])"
   ]
  },
  {
   "cell_type": "code",
   "execution_count": null,
   "id": "c5651155",
   "metadata": {},
   "outputs": [],
   "source": []
  }
 ],
 "metadata": {
  "kernelspec": {
   "display_name": "Python 3 (ipykernel)",
   "language": "python",
   "name": "python3"
  },
  "language_info": {
   "codemirror_mode": {
    "name": "ipython",
    "version": 3
   },
   "file_extension": ".py",
   "mimetype": "text/x-python",
   "name": "python",
   "nbconvert_exporter": "python",
   "pygments_lexer": "ipython3",
   "version": "3.9.13"
  }
 },
 "nbformat": 4,
 "nbformat_minor": 5
}
